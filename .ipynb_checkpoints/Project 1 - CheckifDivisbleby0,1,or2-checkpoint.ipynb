{
 "cells": [
  {
   "cell_type": "markdown",
   "metadata": {},
   "source": [
    "# Robbie's Problem\n",
    "\n",
    "\n",
    "Problem statement: I want you to create a code that takes in any interger input, checks if it is divisible by 0, 1, 2, or more, and prints what it is divisible by"
   ]
  },
  {
   "cell_type": "markdown",
   "metadata": {},
   "source": [
    "### Final Draft - Solution 1 "
   ]
  },
  {
   "cell_type": "code",
   "execution_count": 2,
   "metadata": {},
   "outputs": [
    {
     "name": "stdout",
     "output_type": "stream",
     "text": [
      "Enter in an integer: 3\n",
      "10\n",
      "9\n",
      "8\n",
      "7\n",
      "6\n",
      "5\n",
      "4\n",
      "3\n",
      "2\n",
      "1\n",
      "More\n",
      "Success!\n"
     ]
    }
   ],
   "source": [
    "import time\n",
    "\n",
    "x = int(input(\"Enter in an integer: \"))\n",
    "\n",
    "for i in range(10,0,-1):\n",
    "    print(i)\n",
    "    time.sleep(0.5)\n",
    "    \n",
    "if x < 0:\n",
    "    x = 0\n",
    "    print('Negative changed to zero')\n",
    "    \n",
    "elif x == 0:\n",
    "    print('Zero')\n",
    "\n",
    "elif x == 1:\n",
    "    print('Single')\n",
    "    \n",
    "elif x == 2:\n",
    "    print('Double')\n",
    "\n",
    "else:\n",
    "    print('More')\n",
    "    \n",
    "print(\"Success!\")"
   ]
  },
  {
   "cell_type": "markdown",
   "metadata": {},
   "source": [
    "## Testing/Rough Drafting"
   ]
  },
  {
   "cell_type": "code",
   "execution_count": 15,
   "metadata": {},
   "outputs": [
    {
     "name": "stdout",
     "output_type": "stream",
     "text": [
      "time.struct_time(tm_year=2020, tm_mon=3, tm_mday=10, tm_hour=5, tm_min=11, tm_sec=54, tm_wday=1, tm_yday=70, tm_isdst=0)\n"
     ]
    }
   ],
   "source": [
    "#importing whole module instead of a function\n",
    "import random\n",
    "import time\n",
    "print (time.gmtime())"
   ]
  },
  {
   "cell_type": "code",
   "execution_count": 59,
   "metadata": {},
   "outputs": [
    {
     "name": "stdout",
     "output_type": "stream",
     "text": [
      "3\n",
      "9\n",
      "8\n",
      "10\n",
      "4\n",
      "6\n",
      "8\n",
      "8\n",
      "9\n",
      "10\n"
     ]
    }
   ],
   "source": [
    "#for loops\n",
    "for i in range(10):\n",
    "    highest_to_lowest = random.randint(1,10)\n",
    "    print(highest_to_lowest)\n",
    "    time.sleep(highest_to_lowest)"
   ]
  },
  {
   "cell_type": "code",
   "execution_count": 38,
   "metadata": {},
   "outputs": [
    {
     "name": "stdout",
     "output_type": "stream",
     "text": [
      "Please enter an integer: 1\n",
      "Single\n"
     ]
    }
   ],
   "source": [
    "x = int(input(\"Please enter an integer: \"))\n",
    "\n",
    "if x < 0:\n",
    "    x = 0\n",
    "    print('Negative changed to zero')\n",
    "elif x == 0:\n",
    "    print('Zero')\n",
    "elif x == 1:\n",
    "    print('Single')\n",
    "else:\n",
    "    print('More')"
   ]
  },
  {
   "cell_type": "code",
   "execution_count": 42,
   "metadata": {},
   "outputs": [
    {
     "name": "stdout",
     "output_type": "stream",
     "text": [
      "range(0, 10)\n"
     ]
    }
   ],
   "source": [
    "print (range(10))"
   ]
  },
  {
   "cell_type": "code",
   "execution_count": 44,
   "metadata": {},
   "outputs": [
    {
     "data": {
      "text/plain": [
       "[0, 1, 2, 3, 4]"
      ]
     },
     "execution_count": 44,
     "metadata": {},
     "output_type": "execute_result"
    }
   ],
   "source": [
    "list(range(5))"
   ]
  },
  {
   "cell_type": "code",
   "execution_count": 45,
   "metadata": {},
   "outputs": [
    {
     "name": "stdout",
     "output_type": "stream",
     "text": [
      "0\n",
      "1\n",
      "2\n",
      "3\n",
      "4\n"
     ]
    }
   ],
   "source": [
    "for i in range(5):\n",
    "    print(i)"
   ]
  },
  {
   "cell_type": "code",
   "execution_count": 53,
   "metadata": {},
   "outputs": [
    {
     "name": "stdout",
     "output_type": "stream",
     "text": [
      "10\n",
      "Success!\n",
      "9\n",
      "Success!\n",
      "8\n",
      "Success!\n",
      "7\n",
      "Success!\n",
      "6\n",
      "Success!\n",
      "5\n",
      "Success!\n",
      "4\n",
      "Success!\n",
      "3\n",
      "Success!\n",
      "2\n",
      "Success!\n",
      "1\n",
      "Success!\n"
     ]
    }
   ],
   "source": [
    "for i in range(10,0,-1):\n",
    "    print(i)\n",
    "    \n",
    "    print(\"Success!\")"
   ]
  },
  {
   "cell_type": "code",
   "execution_count": 55,
   "metadata": {},
   "outputs": [
    {
     "name": "stdout",
     "output_type": "stream",
     "text": [
      "10\n",
      "9\n",
      "8\n",
      "7\n",
      "6\n",
      "5\n",
      "4\n",
      "3\n",
      "2\n",
      "1\n",
      "Success!\n"
     ]
    }
   ],
   "source": [
    "import time\n",
    "\n",
    "for i in range(10,0,-1):\n",
    "    print(i)\n",
    "    time.sleep(1)\n",
    "    \n",
    "print(\"Success!\")"
   ]
  },
  {
   "cell_type": "code",
   "execution_count": 79,
   "metadata": {
    "scrolled": true
   },
   "outputs": [
    {
     "name": "stdout",
     "output_type": "stream",
     "text": [
      "Enter a number: 4\n",
      "10\n",
      "9\n",
      "8\n",
      "7\n",
      "6\n",
      "5\n",
      "4\n",
      "3\n",
      "2\n",
      "1\n",
      "Divisible by 2!\n",
      "Success\n"
     ]
    }
   ],
   "source": [
    "x = int(input(\"Enter a number: \"))\n",
    "\n",
    "for i in range(10,0,-1):\n",
    "    print(i)\n",
    "    time.sleep(0.5)\n",
    "    \n",
    "if x%3 == 0:\n",
    "    print('Divisible by 3!')\n",
    "elif x%2 == 0:\n",
    "    print('Divisible by 2!')\n",
    "elif x == 1:\n",
    "    print('Done')\n",
    "else:\n",
    "    print('...BROKEN')\n",
    "    \n",
    "print(\"Success\")"
   ]
  },
  {
   "cell_type": "code",
   "execution_count": 80,
   "metadata": {},
   "outputs": [
    {
     "name": "stdout",
     "output_type": "stream",
     "text": [
      "Enter in an integer: 5\n",
      "10\n",
      "9\n",
      "8\n",
      "7\n",
      "6\n",
      "5\n",
      "4\n",
      "3\n",
      "2\n",
      "1\n",
      "More\n",
      "Success!\n"
     ]
    }
   ],
   "source": [
    "import time\n",
    "\n",
    "x = int(input(\"Enter in an integer: \"))\n",
    "\n",
    "for i in range(10,0,-1):\n",
    "    print(i)\n",
    "    time.sleep(0.5)\n",
    "    \n",
    "if x < 0:\n",
    "    x = 0\n",
    "    print('Negative changed to zero')\n",
    "    \n",
    "elif x == 0:\n",
    "    print('Zero')\n",
    "\n",
    "elif x == 1:\n",
    "    print('Single')\n",
    "\n",
    "else:\n",
    "    print('More')\n",
    "    \n",
    "print(\"Not too bad!\")"
   ]
  }
 ],
 "metadata": {
  "kernelspec": {
   "display_name": "Python 3",
   "language": "python",
   "name": "python3"
  },
  "language_info": {
   "codemirror_mode": {
    "name": "ipython",
    "version": 3
   },
   "file_extension": ".py",
   "mimetype": "text/x-python",
   "name": "python",
   "nbconvert_exporter": "python",
   "pygments_lexer": "ipython3",
   "version": "3.7.4"
  }
 },
 "nbformat": 4,
 "nbformat_minor": 2
}
